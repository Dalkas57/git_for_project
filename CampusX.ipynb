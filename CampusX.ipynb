{
 "cells": [
  {
   "cell_type": "code",
   "execution_count": 3,
   "id": "ba203556-2a63-4dc0-b55a-b76d6fd71088",
   "metadata": {},
   "outputs": [
    {
     "name": "stdout",
     "output_type": "stream",
     "text": [
      "ANI=GREAT=MAN\n"
     ]
    }
   ],
   "source": [
    "print('ANI','GREAT','MAN',sep='=')"
   ]
  },
  {
   "cell_type": "code",
   "execution_count": 5,
   "id": "c0732cfb-46ab-4963-84f6-fa0d707f7185",
   "metadata": {},
   "outputs": [
    {
     "name": "stdout",
     "output_type": "stream",
     "text": [
      "ANI\n",
      "GREAT\n",
      "MAN\n"
     ]
    }
   ],
   "source": [
    "print('ANI','GREAT','MAN',sep='\\n')"
   ]
  },
  {
   "cell_type": "code",
   "execution_count": 25,
   "id": "126273f3-e2d3-40bb-a440-b26316bc3636",
   "metadata": {},
   "outputs": [
    {
     "name": "stdout",
     "output_type": "stream",
     "text": [
      "ANI=Great\n"
     ]
    }
   ],
   "source": [
    "print('ANI',end='=')\n",
    "print('Great')"
   ]
  },
  {
   "cell_type": "code",
   "execution_count": 29,
   "id": "6fc1fbdb-de4e-4307-b5b2-f3c2f8da6828",
   "metadata": {},
   "outputs": [
    {
     "name": "stdout",
     "output_type": "stream",
     "text": [
      "1.7e+308\n",
      "inf\n"
     ]
    }
   ],
   "source": [
    "#datatypes(also)\n",
    "# 1.list\n",
    "# 2.tupple\n",
    "# 3.dictionary\n",
    "# 4.set\n",
    "#1*10*308 - python can handle upto\n",
    "print(1.7e308)\n",
    "print(1.7e309)"
   ]
  },
  {
   "cell_type": "code",
   "execution_count": 35,
   "id": "a54e88c8-9ddb-47ab-9de3-1b5cf77fd716",
   "metadata": {},
   "outputs": [
    {
     "name": "stdout",
     "output_type": "stream",
     "text": [
      "<class 'list'>\n"
     ]
    }
   ],
   "source": [
    "#list\n",
    "a=[1,2,3,4,5]\n",
    "print(type(a))"
   ]
  },
  {
   "cell_type": "code",
   "execution_count": 39,
   "id": "b3264139-e01e-42de-a28e-84c3459d0c42",
   "metadata": {},
   "outputs": [
    {
     "name": "stdout",
     "output_type": "stream",
     "text": [
      "<class 'tuple'>\n"
     ]
    }
   ],
   "source": [
    "#tupple\n",
    "a=(1,2,3,4,5)\n",
    "print(type(a))"
   ]
  },
  {
   "cell_type": "code",
   "execution_count": 41,
   "id": "ee5ec591-e6f9-4c34-b72d-178c3dc82a57",
   "metadata": {},
   "outputs": [
    {
     "name": "stdout",
     "output_type": "stream",
     "text": [
      "<class 'set'>\n"
     ]
    }
   ],
   "source": [
    "#sets\n",
    "a={1,2,3,4,5}\n",
    "print(type(a))"
   ]
  },
  {
   "cell_type": "code",
   "execution_count": 45,
   "id": "7b4fa1d1-cc95-40c0-8d3a-74cd078b1613",
   "metadata": {},
   "outputs": [
    {
     "name": "stdout",
     "output_type": "stream",
     "text": [
      "{'name': 'ANI', 'Caste': 'gen', 'weight': 70}\n"
     ]
    }
   ],
   "source": [
    "#dictionary- always inside {} brackets\n",
    "print({'name':'ANI','Caste':'gen','weight':70})"
   ]
  },
  {
   "cell_type": "code",
   "execution_count": 49,
   "id": "de8801c7-af33-4649-9049-5c66dd0e90b6",
   "metadata": {},
   "outputs": [
    {
     "data": {
      "text/plain": [
       "str"
      ]
     },
     "execution_count": 49,
     "metadata": {},
     "output_type": "execute_result"
    }
   ],
   "source": [
    "type('hello')"
   ]
  },
  {
   "cell_type": "code",
   "execution_count": 51,
   "id": "158cb227-a6a4-4caf-ad69-03db4b65d690",
   "metadata": {},
   "outputs": [
    {
     "data": {
      "text/plain": [
       "list"
      ]
     },
     "execution_count": 51,
     "metadata": {},
     "output_type": "execute_result"
    }
   ],
   "source": [
    "type(['hello'])"
   ]
  },
  {
   "cell_type": "code",
   "execution_count": 53,
   "id": "848cb9eb-9c3d-4b95-a781-1b786f91bef9",
   "metadata": {},
   "outputs": [
    {
     "data": {
      "text/plain": [
       "str"
      ]
     },
     "execution_count": 53,
     "metadata": {},
     "output_type": "execute_result"
    }
   ],
   "source": [
    "type(('hello'))"
   ]
  },
  {
   "cell_type": "code",
   "execution_count": 55,
   "id": "3f930cf6-e3b0-4343-a3e8-1d2f29cdc659",
   "metadata": {},
   "outputs": [
    {
     "name": "stdin",
     "output_type": "stream",
     "text": [
      " ani\n"
     ]
    },
    {
     "name": "stdout",
     "output_type": "stream",
     "text": [
      "ani\n"
     ]
    }
   ],
   "source": [
    "a=input()\n",
    "print(a)\n"
   ]
  },
  {
   "cell_type": "code",
   "execution_count": 57,
   "id": "2cc6215d-4b51-481c-8a45-20bf85abe0e5",
   "metadata": {},
   "outputs": [
    {
     "name": "stdout",
     "output_type": "stream",
     "text": [
      "5\n",
      "ani\n"
     ]
    }
   ],
   "source": [
    "#q.dynamic typing\n",
    "# where you do not tell datatype -already understand datatype by itself\n",
    "#q.static typing\n",
    "# where you do  tell datatype \n",
    "# q.dynamic binding?\n",
    "a=5\n",
    "print(a)\n",
    "a='ani'\n",
    "print(a)\n",
    "# ek hi program me variable integer bhi hold krra saath me string bhi=dynamic binding\n",
    "#static binding- ek hi hota variable type ek program me "
   ]
  },
  {
   "cell_type": "code",
   "execution_count": 59,
   "id": "95cdc859-ee87-4910-98f8-c8aed9567237",
   "metadata": {},
   "outputs": [
    {
     "name": "stdout",
     "output_type": "stream",
     "text": [
      "1 2 3\n"
     ]
    }
   ],
   "source": [
    "a,b,c=1,2,3\n",
    "print(a,b,c)"
   ]
  },
  {
   "cell_type": "code",
   "execution_count": 61,
   "id": "03f88bd4-d570-4ffb-9b22-04150c1dba34",
   "metadata": {},
   "outputs": [
    {
     "name": "stdout",
     "output_type": "stream",
     "text": [
      "1 1 1\n"
     ]
    }
   ],
   "source": [
    "a=b=c=1\n",
    "print(a,b,c)"
   ]
  },
  {
   "cell_type": "code",
   "execution_count": 69,
   "id": "4b90fa40-2d2e-421a-a6de-aa78144bb7ea",
   "metadata": {},
   "outputs": [
    {
     "name": "stdout",
     "output_type": "stream",
     "text": [
      "<built-in function print>\n"
     ]
    }
   ],
   "source": [
    "print(print)"
   ]
  },
  {
   "cell_type": "code",
   "execution_count": 71,
   "id": "2c21284d-65aa-45dd-822e-a9f7e88ab35c",
   "metadata": {},
   "outputs": [],
   "source": [
    "#identifiers rules\n",
    "#1.can't start with digit\n",
    "#2.can't use special characters except '_'\n",
    "#3.can't use keywords-(not to get errors)"
   ]
  },
  {
   "cell_type": "code",
   "execution_count": 87,
   "id": "ae79c866-45ef-4f53-916e-54860c98b47a",
   "metadata": {},
   "outputs": [
    {
     "data": {
      "text/plain": [
       "'5'"
      ]
     },
     "execution_count": 87,
     "metadata": {},
     "output_type": "execute_result"
    }
   ],
   "source": [
    "#type conversion are of 2 types\n",
    "#1.implicit- automatically converting type\n",
    "#print(5+5.6)--# output converted in float by itself\n",
    "#2.explicit-manually done\n",
    "str(5)"
   ]
  },
  {
   "cell_type": "code",
   "execution_count": 97,
   "id": "688522b5-5b9a-4958-9f11-9f459049b33a",
   "metadata": {},
   "outputs": [
    {
     "name": "stdin",
     "output_type": "stream",
     "text": [
      "name 56\n"
     ]
    },
    {
     "name": "stdout",
     "output_type": "stream",
     "text": [
      "56.0\n"
     ]
    }
   ],
   "source": [
    "a=int(input('name'))\n",
    "print(float(a))"
   ]
  },
  {
   "cell_type": "code",
   "execution_count": 99,
   "id": "b87fa3c2-247e-4532-85dd-64d70331dbff",
   "metadata": {},
   "outputs": [
    {
     "name": "stdout",
     "output_type": "stream",
     "text": [
      "150.0\n",
      "0.015\n"
     ]
    }
   ],
   "source": [
    "#literals- value stored in variable- for example-a=10,10 is literals\n",
    "print(1.5e2)\n",
    "print(1.5e-2)\n"
   ]
  },
  {
   "cell_type": "code",
   "execution_count": 103,
   "id": "2a1e124e-10ff-49b8-b9e1-d54432794c4d",
   "metadata": {},
   "outputs": [
    {
     "name": "stdout",
     "output_type": "stream",
     "text": [
      "5\n",
      "4\n"
     ]
    }
   ],
   "source": [
    "print(True + 4) #true=1\n",
    "print(False + 4) #false=0\n"
   ]
  },
  {
   "cell_type": "code",
   "execution_count": 105,
   "id": "a191804b-8e18-4460-8adf-6bcf52333006",
   "metadata": {},
   "outputs": [
    {
     "name": "stdout",
     "output_type": "stream",
     "text": [
      "None\n"
     ]
    }
   ],
   "source": [
    "a=None\n",
    "print(a)"
   ]
  },
  {
   "cell_type": "code",
   "execution_count": null,
   "id": "5fbd4364-385d-4a56-baf4-477af511b4ba",
   "metadata": {},
   "outputs": [],
   "source": [
    "#operators and if else + loops"
   ]
  }
 ],
 "metadata": {
  "kernelspec": {
   "display_name": "Python 3 (ipykernel)",
   "language": "python",
   "name": "python3"
  },
  "language_info": {
   "codemirror_mode": {
    "name": "ipython",
    "version": 3
   },
   "file_extension": ".py",
   "mimetype": "text/x-python",
   "name": "python",
   "nbconvert_exporter": "python",
   "pygments_lexer": "ipython3",
   "version": "3.12.7"
  }
 },
 "nbformat": 4,
 "nbformat_minor": 5
}
