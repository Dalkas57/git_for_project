{
 "cells": [
  {
   "cell_type": "code",
   "execution_count": 1,
   "id": "153bc788-25d4-4d28-919c-5cb34842a4da",
   "metadata": {},
   "outputs": [
    {
     "name": "stdout",
     "output_type": "stream",
     "text": [
      "Requirement already satisfied: pandas in c:\\users\\kushv\\anaconda3\\lib\\site-packages (2.2.2)\n",
      "Requirement already satisfied: numpy>=1.26.0 in c:\\users\\kushv\\anaconda3\\lib\\site-packages (from pandas) (1.26.4)\n",
      "Requirement already satisfied: python-dateutil>=2.8.2 in c:\\users\\kushv\\anaconda3\\lib\\site-packages (from pandas) (2.9.0.post0)\n",
      "Requirement already satisfied: pytz>=2020.1 in c:\\users\\kushv\\anaconda3\\lib\\site-packages (from pandas) (2024.1)\n",
      "Requirement already satisfied: tzdata>=2022.7 in c:\\users\\kushv\\anaconda3\\lib\\site-packages (from pandas) (2023.3)\n",
      "Requirement already satisfied: six>=1.5 in c:\\users\\kushv\\anaconda3\\lib\\site-packages (from python-dateutil>=2.8.2->pandas) (1.16.0)\n",
      "Note: you may need to restart the kernel to use updated packages.\n"
     ]
    }
   ],
   "source": [
    "pip install pandas"
   ]
  },
  {
   "cell_type": "code",
   "execution_count": 11,
   "id": "d9f536d6-a904-477d-81f8-aa8612be22c3",
   "metadata": {},
   "outputs": [],
   "source": [
    "import pandas as pd"
   ]
  },
  {
   "cell_type": "code",
   "execution_count": 13,
   "id": "844f00ab-09ee-4d41-9bba-bf8c38b80471",
   "metadata": {},
   "outputs": [
    {
     "data": {
      "text/html": [
       "<div>\n",
       "<style scoped>\n",
       "    .dataframe tbody tr th:only-of-type {\n",
       "        vertical-align: middle;\n",
       "    }\n",
       "\n",
       "    .dataframe tbody tr th {\n",
       "        vertical-align: top;\n",
       "    }\n",
       "\n",
       "    .dataframe thead th {\n",
       "        text-align: right;\n",
       "    }\n",
       "</style>\n",
       "<table border=\"1\" class=\"dataframe\">\n",
       "  <thead>\n",
       "    <tr style=\"text-align: right;\">\n",
       "      <th></th>\n",
       "      <th>User Id</th>\n",
       "      <th>Age</th>\n",
       "      <th>Keyword</th>\n",
       "    </tr>\n",
       "  </thead>\n",
       "  <tbody>\n",
       "    <tr>\n",
       "      <th>0</th>\n",
       "      <td>00831062-d45b-11ee-8482-128e718ba88f</td>\n",
       "      <td>25-34</td>\n",
       "      <td>Total</td>\n",
       "    </tr>\n",
       "    <tr>\n",
       "      <th>1</th>\n",
       "      <td>00ac49e8-d45a-11ee-8482-128e718ba88f</td>\n",
       "      <td>35-45</td>\n",
       "      <td>Total</td>\n",
       "    </tr>\n",
       "    <tr>\n",
       "      <th>2</th>\n",
       "      <td>00fd1031-d466-11ee-8482-128e718ba88f</td>\n",
       "      <td>Above 50</td>\n",
       "      <td>Total</td>\n",
       "    </tr>\n",
       "    <tr>\n",
       "      <th>3</th>\n",
       "      <td>011c0f25-d464-11ee-8482-128e718ba88f</td>\n",
       "      <td>Above 50</td>\n",
       "      <td>Total</td>\n",
       "    </tr>\n",
       "    <tr>\n",
       "      <th>4</th>\n",
       "      <td>01bc1864-d460-11ee-8482-128e718ba88f</td>\n",
       "      <td>Below 25</td>\n",
       "      <td>Total</td>\n",
       "    </tr>\n",
       "    <tr>\n",
       "      <th>...</th>\n",
       "      <td>...</td>\n",
       "      <td>...</td>\n",
       "      <td>...</td>\n",
       "    </tr>\n",
       "    <tr>\n",
       "      <th>1933</th>\n",
       "      <td>fbd0ca7d-d466-11ee-8482-128e718ba88f</td>\n",
       "      <td>25-34</td>\n",
       "      <td>Rejector</td>\n",
       "    </tr>\n",
       "    <tr>\n",
       "      <th>1934</th>\n",
       "      <td>fc2bce87-d467-11ee-8482-128e718ba88f</td>\n",
       "      <td>Below 25</td>\n",
       "      <td>Rejector</td>\n",
       "    </tr>\n",
       "    <tr>\n",
       "      <th>1935</th>\n",
       "      <td>fc3b09c3-d465-11ee-8482-128e718ba88f</td>\n",
       "      <td>Below 25</td>\n",
       "      <td>Rejector</td>\n",
       "    </tr>\n",
       "    <tr>\n",
       "      <th>1936</th>\n",
       "      <td>fd339b8a-d469-11ee-8482-128e718ba88f</td>\n",
       "      <td>35-45</td>\n",
       "      <td>Rejector</td>\n",
       "    </tr>\n",
       "    <tr>\n",
       "      <th>1937</th>\n",
       "      <td>0030b069-d45e-11ee-8482-128e718ba88f</td>\n",
       "      <td>25-34</td>\n",
       "      <td>Total</td>\n",
       "    </tr>\n",
       "  </tbody>\n",
       "</table>\n",
       "<p>1938 rows × 3 columns</p>\n",
       "</div>"
      ],
      "text/plain": [
       "                                   User Id       Age   Keyword\n",
       "0     00831062-d45b-11ee-8482-128e718ba88f     25-34     Total\n",
       "1     00ac49e8-d45a-11ee-8482-128e718ba88f     35-45     Total\n",
       "2     00fd1031-d466-11ee-8482-128e718ba88f  Above 50     Total\n",
       "3     011c0f25-d464-11ee-8482-128e718ba88f  Above 50     Total\n",
       "4     01bc1864-d460-11ee-8482-128e718ba88f  Below 25     Total\n",
       "...                                    ...       ...       ...\n",
       "1933  fbd0ca7d-d466-11ee-8482-128e718ba88f     25-34  Rejector\n",
       "1934  fc2bce87-d467-11ee-8482-128e718ba88f  Below 25  Rejector\n",
       "1935  fc3b09c3-d465-11ee-8482-128e718ba88f  Below 25  Rejector\n",
       "1936  fd339b8a-d469-11ee-8482-128e718ba88f     35-45  Rejector\n",
       "1937  0030b069-d45e-11ee-8482-128e718ba88f     25-34     Total\n",
       "\n",
       "[1938 rows x 3 columns]"
      ]
     },
     "execution_count": 13,
     "metadata": {},
     "output_type": "execute_result"
    }
   ],
   "source": [
    "data=pd.read_excel(\"C:\\\\Users\\\\kushv\\\\Downloads\\\\Copy of DATest_2.xlsx\",sheet_name=\"Age_Input\")\n",
    "data"
   ]
  },
  {
   "cell_type": "code",
   "execution_count": 15,
   "id": "2e3d60fb-f180-4466-9d84-3e5f72fe9c8d",
   "metadata": {},
   "outputs": [
    {
     "data": {
      "text/plain": [
       "0          25-34\n",
       "1          35-45\n",
       "2       Above 50\n",
       "3       Above 50\n",
       "4       Below 25\n",
       "          ...   \n",
       "1933       25-34\n",
       "1934    Below 25\n",
       "1935    Below 25\n",
       "1936       35-45\n",
       "1937       25-34\n",
       "Name: Age, Length: 1938, dtype: object"
      ]
     },
     "execution_count": 15,
     "metadata": {},
     "output_type": "execute_result"
    }
   ],
   "source": [
    "data[\"Age\"]"
   ]
  },
  {
   "cell_type": "code",
   "execution_count": 17,
   "id": "e18bb830-213e-43bf-9c52-9165f308438e",
   "metadata": {},
   "outputs": [
    {
     "data": {
      "text/plain": [
       "'Intender'"
      ]
     },
     "execution_count": 17,
     "metadata": {},
     "output_type": "execute_result"
    }
   ],
   "source": [
    "data[\"Keyword\"][970]"
   ]
  },
  {
   "cell_type": "code",
   "execution_count": 19,
   "id": "85f62e8a-2446-466d-9275-392e8f5516d4",
   "metadata": {},
   "outputs": [
    {
     "data": {
      "text/plain": [
       "'Owner'"
      ]
     },
     "execution_count": 19,
     "metadata": {},
     "output_type": "execute_result"
    }
   ],
   "source": [
    "data[\"Keyword\"][1262]"
   ]
  },
  {
   "cell_type": "code",
   "execution_count": 21,
   "id": "d0927f2b-6214-48e6-a2ed-290584231d2f",
   "metadata": {},
   "outputs": [
    {
     "data": {
      "text/plain": [
       "'Rejector'"
      ]
     },
     "execution_count": 21,
     "metadata": {},
     "output_type": "execute_result"
    }
   ],
   "source": [
    "data[\"Keyword\"][1702]"
   ]
  },
  {
   "cell_type": "code",
   "execution_count": 23,
   "id": "9b176b15-28e7-4e27-b685-f9911d428e45",
   "metadata": {},
   "outputs": [
    {
     "data": {
      "text/html": [
       "<div>\n",
       "<style scoped>\n",
       "    .dataframe tbody tr th:only-of-type {\n",
       "        vertical-align: middle;\n",
       "    }\n",
       "\n",
       "    .dataframe tbody tr th {\n",
       "        vertical-align: top;\n",
       "    }\n",
       "\n",
       "    .dataframe thead th {\n",
       "        text-align: right;\n",
       "    }\n",
       "</style>\n",
       "<table border=\"1\" class=\"dataframe\">\n",
       "  <thead>\n",
       "    <tr style=\"text-align: right;\">\n",
       "      <th></th>\n",
       "      <th>User Id</th>\n",
       "      <th>Age</th>\n",
       "      <th>Keyword</th>\n",
       "    </tr>\n",
       "  </thead>\n",
       "  <tbody>\n",
       "    <tr>\n",
       "      <th>0</th>\n",
       "      <td>00831062-d45b-11ee-8482-128e718ba88f</td>\n",
       "      <td>25-34</td>\n",
       "      <td>Total</td>\n",
       "    </tr>\n",
       "    <tr>\n",
       "      <th>1</th>\n",
       "      <td>00ac49e8-d45a-11ee-8482-128e718ba88f</td>\n",
       "      <td>35-45</td>\n",
       "      <td>Total</td>\n",
       "    </tr>\n",
       "    <tr>\n",
       "      <th>2</th>\n",
       "      <td>00fd1031-d466-11ee-8482-128e718ba88f</td>\n",
       "      <td>Above 50</td>\n",
       "      <td>Total</td>\n",
       "    </tr>\n",
       "    <tr>\n",
       "      <th>3</th>\n",
       "      <td>011c0f25-d464-11ee-8482-128e718ba88f</td>\n",
       "      <td>Above 50</td>\n",
       "      <td>Total</td>\n",
       "    </tr>\n",
       "    <tr>\n",
       "      <th>4</th>\n",
       "      <td>01bc1864-d460-11ee-8482-128e718ba88f</td>\n",
       "      <td>Below 25</td>\n",
       "      <td>Total</td>\n",
       "    </tr>\n",
       "    <tr>\n",
       "      <th>...</th>\n",
       "      <td>...</td>\n",
       "      <td>...</td>\n",
       "      <td>...</td>\n",
       "    </tr>\n",
       "    <tr>\n",
       "      <th>1933</th>\n",
       "      <td>fbd0ca7d-d466-11ee-8482-128e718ba88f</td>\n",
       "      <td>25-34</td>\n",
       "      <td>Rejector</td>\n",
       "    </tr>\n",
       "    <tr>\n",
       "      <th>1934</th>\n",
       "      <td>fc2bce87-d467-11ee-8482-128e718ba88f</td>\n",
       "      <td>Below 25</td>\n",
       "      <td>Rejector</td>\n",
       "    </tr>\n",
       "    <tr>\n",
       "      <th>1935</th>\n",
       "      <td>fc3b09c3-d465-11ee-8482-128e718ba88f</td>\n",
       "      <td>Below 25</td>\n",
       "      <td>Rejector</td>\n",
       "    </tr>\n",
       "    <tr>\n",
       "      <th>1936</th>\n",
       "      <td>fd339b8a-d469-11ee-8482-128e718ba88f</td>\n",
       "      <td>35-45</td>\n",
       "      <td>Rejector</td>\n",
       "    </tr>\n",
       "    <tr>\n",
       "      <th>1937</th>\n",
       "      <td>0030b069-d45e-11ee-8482-128e718ba88f</td>\n",
       "      <td>25-34</td>\n",
       "      <td>Total</td>\n",
       "    </tr>\n",
       "  </tbody>\n",
       "</table>\n",
       "<p>1938 rows × 3 columns</p>\n",
       "</div>"
      ],
      "text/plain": [
       "                                   User Id       Age   Keyword\n",
       "0     00831062-d45b-11ee-8482-128e718ba88f     25-34     Total\n",
       "1     00ac49e8-d45a-11ee-8482-128e718ba88f     35-45     Total\n",
       "2     00fd1031-d466-11ee-8482-128e718ba88f  Above 50     Total\n",
       "3     011c0f25-d464-11ee-8482-128e718ba88f  Above 50     Total\n",
       "4     01bc1864-d460-11ee-8482-128e718ba88f  Below 25     Total\n",
       "...                                    ...       ...       ...\n",
       "1933  fbd0ca7d-d466-11ee-8482-128e718ba88f     25-34  Rejector\n",
       "1934  fc2bce87-d467-11ee-8482-128e718ba88f  Below 25  Rejector\n",
       "1935  fc3b09c3-d465-11ee-8482-128e718ba88f  Below 25  Rejector\n",
       "1936  fd339b8a-d469-11ee-8482-128e718ba88f     35-45  Rejector\n",
       "1937  0030b069-d45e-11ee-8482-128e718ba88f     25-34     Total\n",
       "\n",
       "[1938 rows x 3 columns]"
      ]
     },
     "execution_count": 23,
     "metadata": {},
     "output_type": "execute_result"
    }
   ],
   "source": [
    "data"
   ]
  },
  {
   "cell_type": "code",
   "execution_count": 25,
   "id": "b65e77ae-46ca-479e-939d-cd5d1360da84",
   "metadata": {},
   "outputs": [],
   "source": [
    "df1=data.groupby(\"Age\")[\"Keyword\"].value_counts().unstack(fill_value=0)"
   ]
  },
  {
   "cell_type": "code",
   "execution_count": 27,
   "id": "8cb73bc8-5a95-4f7f-ad82-a7aff05b4b46",
   "metadata": {},
   "outputs": [
    {
     "data": {
      "text/html": [
       "<div>\n",
       "<style scoped>\n",
       "    .dataframe tbody tr th:only-of-type {\n",
       "        vertical-align: middle;\n",
       "    }\n",
       "\n",
       "    .dataframe tbody tr th {\n",
       "        vertical-align: top;\n",
       "    }\n",
       "\n",
       "    .dataframe thead th {\n",
       "        text-align: right;\n",
       "    }\n",
       "</style>\n",
       "<table border=\"1\" class=\"dataframe\">\n",
       "  <thead>\n",
       "    <tr style=\"text-align: right;\">\n",
       "      <th>Keyword</th>\n",
       "      <th>Intender</th>\n",
       "      <th>Owner</th>\n",
       "      <th>Rejector</th>\n",
       "      <th>Total</th>\n",
       "    </tr>\n",
       "    <tr>\n",
       "      <th>Age</th>\n",
       "      <th></th>\n",
       "      <th></th>\n",
       "      <th></th>\n",
       "      <th></th>\n",
       "    </tr>\n",
       "  </thead>\n",
       "  <tbody>\n",
       "    <tr>\n",
       "      <th>25-34</th>\n",
       "      <td>142</td>\n",
       "      <td>166</td>\n",
       "      <td>105</td>\n",
       "      <td>413</td>\n",
       "    </tr>\n",
       "    <tr>\n",
       "      <th>35-45</th>\n",
       "      <td>80</td>\n",
       "      <td>123</td>\n",
       "      <td>67</td>\n",
       "      <td>270</td>\n",
       "    </tr>\n",
       "    <tr>\n",
       "      <th>46-50</th>\n",
       "      <td>11</td>\n",
       "      <td>24</td>\n",
       "      <td>2</td>\n",
       "      <td>37</td>\n",
       "    </tr>\n",
       "    <tr>\n",
       "      <th>Above 50</th>\n",
       "      <td>17</td>\n",
       "      <td>54</td>\n",
       "      <td>6</td>\n",
       "      <td>77</td>\n",
       "    </tr>\n",
       "    <tr>\n",
       "      <th>Below 25</th>\n",
       "      <td>33</td>\n",
       "      <td>62</td>\n",
       "      <td>36</td>\n",
       "      <td>131</td>\n",
       "    </tr>\n",
       "  </tbody>\n",
       "</table>\n",
       "</div>"
      ],
      "text/plain": [
       "Keyword   Intender  Owner  Rejector  Total\n",
       "Age                                       \n",
       "25-34          142    166       105    413\n",
       "35-45           80    123        67    270\n",
       "46-50           11     24         2     37\n",
       "Above 50        17     54         6     77\n",
       "Below 25        33     62        36    131"
      ]
     },
     "execution_count": 27,
     "metadata": {},
     "output_type": "execute_result"
    }
   ],
   "source": [
    "df1"
   ]
  },
  {
   "cell_type": "code",
   "execution_count": 29,
   "id": "d40d5915-2066-4aa8-b4ef-19df82f1431e",
   "metadata": {},
   "outputs": [],
   "source": [
    "df1=df1.reset_index()"
   ]
  },
  {
   "cell_type": "code",
   "execution_count": 31,
   "id": "e335b4b2-3474-4c77-9740-b90b011ba208",
   "metadata": {},
   "outputs": [
    {
     "data": {
      "text/html": [
       "<div>\n",
       "<style scoped>\n",
       "    .dataframe tbody tr th:only-of-type {\n",
       "        vertical-align: middle;\n",
       "    }\n",
       "\n",
       "    .dataframe tbody tr th {\n",
       "        vertical-align: top;\n",
       "    }\n",
       "\n",
       "    .dataframe thead th {\n",
       "        text-align: right;\n",
       "    }\n",
       "</style>\n",
       "<table border=\"1\" class=\"dataframe\">\n",
       "  <thead>\n",
       "    <tr style=\"text-align: right;\">\n",
       "      <th>Keyword</th>\n",
       "      <th>Age</th>\n",
       "      <th>Intender</th>\n",
       "      <th>Owner</th>\n",
       "      <th>Rejector</th>\n",
       "      <th>Total</th>\n",
       "    </tr>\n",
       "  </thead>\n",
       "  <tbody>\n",
       "    <tr>\n",
       "      <th>0</th>\n",
       "      <td>25-34</td>\n",
       "      <td>142</td>\n",
       "      <td>166</td>\n",
       "      <td>105</td>\n",
       "      <td>413</td>\n",
       "    </tr>\n",
       "    <tr>\n",
       "      <th>1</th>\n",
       "      <td>35-45</td>\n",
       "      <td>80</td>\n",
       "      <td>123</td>\n",
       "      <td>67</td>\n",
       "      <td>270</td>\n",
       "    </tr>\n",
       "    <tr>\n",
       "      <th>2</th>\n",
       "      <td>46-50</td>\n",
       "      <td>11</td>\n",
       "      <td>24</td>\n",
       "      <td>2</td>\n",
       "      <td>37</td>\n",
       "    </tr>\n",
       "    <tr>\n",
       "      <th>3</th>\n",
       "      <td>Above 50</td>\n",
       "      <td>17</td>\n",
       "      <td>54</td>\n",
       "      <td>6</td>\n",
       "      <td>77</td>\n",
       "    </tr>\n",
       "    <tr>\n",
       "      <th>4</th>\n",
       "      <td>Below 25</td>\n",
       "      <td>33</td>\n",
       "      <td>62</td>\n",
       "      <td>36</td>\n",
       "      <td>131</td>\n",
       "    </tr>\n",
       "  </tbody>\n",
       "</table>\n",
       "</div>"
      ],
      "text/plain": [
       "Keyword       Age  Intender  Owner  Rejector  Total\n",
       "0           25-34       142    166       105    413\n",
       "1           35-45        80    123        67    270\n",
       "2           46-50        11     24         2     37\n",
       "3        Above 50        17     54         6     77\n",
       "4        Below 25        33     62        36    131"
      ]
     },
     "execution_count": 31,
     "metadata": {},
     "output_type": "execute_result"
    }
   ],
   "source": [
    "df1"
   ]
  },
  {
   "cell_type": "code",
   "execution_count": 33,
   "id": "f3f0caa2-3540-4531-831b-12c84c8708d5",
   "metadata": {},
   "outputs": [],
   "source": [
    "df1=df1.drop([\"Total\"],axis=1)"
   ]
  },
  {
   "cell_type": "code",
   "execution_count": 35,
   "id": "13c858f5-89b9-4894-b5b0-23a0c46fb692",
   "metadata": {},
   "outputs": [
    {
     "data": {
      "text/html": [
       "<div>\n",
       "<style scoped>\n",
       "    .dataframe tbody tr th:only-of-type {\n",
       "        vertical-align: middle;\n",
       "    }\n",
       "\n",
       "    .dataframe tbody tr th {\n",
       "        vertical-align: top;\n",
       "    }\n",
       "\n",
       "    .dataframe thead th {\n",
       "        text-align: right;\n",
       "    }\n",
       "</style>\n",
       "<table border=\"1\" class=\"dataframe\">\n",
       "  <thead>\n",
       "    <tr style=\"text-align: right;\">\n",
       "      <th>Keyword</th>\n",
       "      <th>Age</th>\n",
       "      <th>Intender</th>\n",
       "      <th>Owner</th>\n",
       "      <th>Rejector</th>\n",
       "    </tr>\n",
       "  </thead>\n",
       "  <tbody>\n",
       "    <tr>\n",
       "      <th>0</th>\n",
       "      <td>25-34</td>\n",
       "      <td>142</td>\n",
       "      <td>166</td>\n",
       "      <td>105</td>\n",
       "    </tr>\n",
       "    <tr>\n",
       "      <th>1</th>\n",
       "      <td>35-45</td>\n",
       "      <td>80</td>\n",
       "      <td>123</td>\n",
       "      <td>67</td>\n",
       "    </tr>\n",
       "    <tr>\n",
       "      <th>2</th>\n",
       "      <td>46-50</td>\n",
       "      <td>11</td>\n",
       "      <td>24</td>\n",
       "      <td>2</td>\n",
       "    </tr>\n",
       "    <tr>\n",
       "      <th>3</th>\n",
       "      <td>Above 50</td>\n",
       "      <td>17</td>\n",
       "      <td>54</td>\n",
       "      <td>6</td>\n",
       "    </tr>\n",
       "    <tr>\n",
       "      <th>4</th>\n",
       "      <td>Below 25</td>\n",
       "      <td>33</td>\n",
       "      <td>62</td>\n",
       "      <td>36</td>\n",
       "    </tr>\n",
       "  </tbody>\n",
       "</table>\n",
       "</div>"
      ],
      "text/plain": [
       "Keyword       Age  Intender  Owner  Rejector\n",
       "0           25-34       142    166       105\n",
       "1           35-45        80    123        67\n",
       "2           46-50        11     24         2\n",
       "3        Above 50        17     54         6\n",
       "4        Below 25        33     62        36"
      ]
     },
     "execution_count": 35,
     "metadata": {},
     "output_type": "execute_result"
    }
   ],
   "source": [
    "df1"
   ]
  },
  {
   "cell_type": "code",
   "execution_count": 37,
   "id": "c3b87027-7b82-4ffb-9a02-ae7ccf271623",
   "metadata": {},
   "outputs": [],
   "source": [
    "order=['Below 25','25-34','35-45','46-50','Above 50']\n",
    "df1[\"Age\"]=pd.Categorical(df1[\"Age\"],categories=order,ordered=True)\n",
    "\n",
    "df1=df1.sort_values(\"Age\").reset_index(drop=True)"
   ]
  },
  {
   "cell_type": "code",
   "execution_count": 39,
   "id": "9512b2f1-aa0f-42ab-88c0-0392bd56789c",
   "metadata": {},
   "outputs": [
    {
     "data": {
      "text/html": [
       "<div>\n",
       "<style scoped>\n",
       "    .dataframe tbody tr th:only-of-type {\n",
       "        vertical-align: middle;\n",
       "    }\n",
       "\n",
       "    .dataframe tbody tr th {\n",
       "        vertical-align: top;\n",
       "    }\n",
       "\n",
       "    .dataframe thead th {\n",
       "        text-align: right;\n",
       "    }\n",
       "</style>\n",
       "<table border=\"1\" class=\"dataframe\">\n",
       "  <thead>\n",
       "    <tr style=\"text-align: right;\">\n",
       "      <th>Keyword</th>\n",
       "      <th>Age</th>\n",
       "      <th>Intender</th>\n",
       "      <th>Owner</th>\n",
       "      <th>Rejector</th>\n",
       "    </tr>\n",
       "  </thead>\n",
       "  <tbody>\n",
       "    <tr>\n",
       "      <th>0</th>\n",
       "      <td>Below 25</td>\n",
       "      <td>33</td>\n",
       "      <td>62</td>\n",
       "      <td>36</td>\n",
       "    </tr>\n",
       "    <tr>\n",
       "      <th>1</th>\n",
       "      <td>25-34</td>\n",
       "      <td>142</td>\n",
       "      <td>166</td>\n",
       "      <td>105</td>\n",
       "    </tr>\n",
       "    <tr>\n",
       "      <th>2</th>\n",
       "      <td>35-45</td>\n",
       "      <td>80</td>\n",
       "      <td>123</td>\n",
       "      <td>67</td>\n",
       "    </tr>\n",
       "    <tr>\n",
       "      <th>3</th>\n",
       "      <td>46-50</td>\n",
       "      <td>11</td>\n",
       "      <td>24</td>\n",
       "      <td>2</td>\n",
       "    </tr>\n",
       "    <tr>\n",
       "      <th>4</th>\n",
       "      <td>Above 50</td>\n",
       "      <td>17</td>\n",
       "      <td>54</td>\n",
       "      <td>6</td>\n",
       "    </tr>\n",
       "  </tbody>\n",
       "</table>\n",
       "</div>"
      ],
      "text/plain": [
       "Keyword       Age  Intender  Owner  Rejector\n",
       "0        Below 25        33     62        36\n",
       "1           25-34       142    166       105\n",
       "2           35-45        80    123        67\n",
       "3           46-50        11     24         2\n",
       "4        Above 50        17     54         6"
      ]
     },
     "execution_count": 39,
     "metadata": {},
     "output_type": "execute_result"
    }
   ],
   "source": [
    "df1"
   ]
  },
  {
   "cell_type": "code",
   "execution_count": 41,
   "id": "11023bdb-a97e-455d-9e5d-dcc67da6d09e",
   "metadata": {},
   "outputs": [],
   "source": [
    "df1.to_csv(\"ProjectLatestsat.csv\",index=False)"
   ]
  },
  {
   "cell_type": "code",
   "execution_count": 43,
   "id": "30fc2d39-03d4-41a3-94da-86a010f084db",
   "metadata": {},
   "outputs": [
    {
     "data": {
      "text/html": [
       "<div>\n",
       "<style scoped>\n",
       "    .dataframe tbody tr th:only-of-type {\n",
       "        vertical-align: middle;\n",
       "    }\n",
       "\n",
       "    .dataframe tbody tr th {\n",
       "        vertical-align: top;\n",
       "    }\n",
       "\n",
       "    .dataframe thead th {\n",
       "        text-align: right;\n",
       "    }\n",
       "</style>\n",
       "<table border=\"1\" class=\"dataframe\">\n",
       "  <thead>\n",
       "    <tr style=\"text-align: right;\">\n",
       "      <th>Keyword</th>\n",
       "      <th>Age</th>\n",
       "      <th>Intender</th>\n",
       "      <th>Owner</th>\n",
       "      <th>Rejector</th>\n",
       "    </tr>\n",
       "  </thead>\n",
       "  <tbody>\n",
       "    <tr>\n",
       "      <th>0</th>\n",
       "      <td>Below 25</td>\n",
       "      <td>33</td>\n",
       "      <td>62</td>\n",
       "      <td>36</td>\n",
       "    </tr>\n",
       "    <tr>\n",
       "      <th>1</th>\n",
       "      <td>25-34</td>\n",
       "      <td>142</td>\n",
       "      <td>166</td>\n",
       "      <td>105</td>\n",
       "    </tr>\n",
       "    <tr>\n",
       "      <th>2</th>\n",
       "      <td>35-45</td>\n",
       "      <td>80</td>\n",
       "      <td>123</td>\n",
       "      <td>67</td>\n",
       "    </tr>\n",
       "    <tr>\n",
       "      <th>3</th>\n",
       "      <td>46-50</td>\n",
       "      <td>11</td>\n",
       "      <td>24</td>\n",
       "      <td>2</td>\n",
       "    </tr>\n",
       "    <tr>\n",
       "      <th>4</th>\n",
       "      <td>Above 50</td>\n",
       "      <td>17</td>\n",
       "      <td>54</td>\n",
       "      <td>6</td>\n",
       "    </tr>\n",
       "  </tbody>\n",
       "</table>\n",
       "</div>"
      ],
      "text/plain": [
       "Keyword       Age  Intender  Owner  Rejector\n",
       "0        Below 25        33     62        36\n",
       "1           25-34       142    166       105\n",
       "2           35-45        80    123        67\n",
       "3           46-50        11     24         2\n",
       "4        Above 50        17     54         6"
      ]
     },
     "execution_count": 43,
     "metadata": {},
     "output_type": "execute_result"
    }
   ],
   "source": [
    "df1"
   ]
  },
  {
   "cell_type": "code",
   "execution_count": 51,
   "id": "015c919b-c541-4c5e-bbd9-2867dfd5ac65",
   "metadata": {},
   "outputs": [],
   "source": [
    "#adding a new column\n",
    "df1['C']=['1','1','2','3','5']\n"
   ]
  },
  {
   "cell_type": "code",
   "execution_count": 53,
   "id": "953e34e2-40df-459a-a0d1-73154681f9fd",
   "metadata": {},
   "outputs": [
    {
     "data": {
      "text/html": [
       "<div>\n",
       "<style scoped>\n",
       "    .dataframe tbody tr th:only-of-type {\n",
       "        vertical-align: middle;\n",
       "    }\n",
       "\n",
       "    .dataframe tbody tr th {\n",
       "        vertical-align: top;\n",
       "    }\n",
       "\n",
       "    .dataframe thead th {\n",
       "        text-align: right;\n",
       "    }\n",
       "</style>\n",
       "<table border=\"1\" class=\"dataframe\">\n",
       "  <thead>\n",
       "    <tr style=\"text-align: right;\">\n",
       "      <th>Keyword</th>\n",
       "      <th>Age</th>\n",
       "      <th>Intender</th>\n",
       "      <th>Owner</th>\n",
       "      <th>Rejector</th>\n",
       "      <th>C</th>\n",
       "    </tr>\n",
       "  </thead>\n",
       "  <tbody>\n",
       "    <tr>\n",
       "      <th>0</th>\n",
       "      <td>Below 25</td>\n",
       "      <td>33</td>\n",
       "      <td>62</td>\n",
       "      <td>36</td>\n",
       "      <td>1</td>\n",
       "    </tr>\n",
       "    <tr>\n",
       "      <th>1</th>\n",
       "      <td>25-34</td>\n",
       "      <td>142</td>\n",
       "      <td>166</td>\n",
       "      <td>105</td>\n",
       "      <td>1</td>\n",
       "    </tr>\n",
       "    <tr>\n",
       "      <th>2</th>\n",
       "      <td>35-45</td>\n",
       "      <td>80</td>\n",
       "      <td>123</td>\n",
       "      <td>67</td>\n",
       "      <td>2</td>\n",
       "    </tr>\n",
       "    <tr>\n",
       "      <th>3</th>\n",
       "      <td>46-50</td>\n",
       "      <td>11</td>\n",
       "      <td>24</td>\n",
       "      <td>2</td>\n",
       "      <td>3</td>\n",
       "    </tr>\n",
       "    <tr>\n",
       "      <th>4</th>\n",
       "      <td>Above 50</td>\n",
       "      <td>17</td>\n",
       "      <td>54</td>\n",
       "      <td>6</td>\n",
       "      <td>5</td>\n",
       "    </tr>\n",
       "  </tbody>\n",
       "</table>\n",
       "</div>"
      ],
      "text/plain": [
       "Keyword       Age  Intender  Owner  Rejector  C\n",
       "0        Below 25        33     62        36  1\n",
       "1           25-34       142    166       105  1\n",
       "2           35-45        80    123        67  2\n",
       "3           46-50        11     24         2  3\n",
       "4        Above 50        17     54         6  5"
      ]
     },
     "execution_count": 53,
     "metadata": {},
     "output_type": "execute_result"
    }
   ],
   "source": [
    "df1"
   ]
  },
  {
   "cell_type": "code",
   "execution_count": null,
   "id": "d12184c8-2ce7-40ab-b108-4ca9ad72c63a",
   "metadata": {},
   "outputs": [],
   "source": []
  }
 ],
 "metadata": {
  "kernelspec": {
   "display_name": "Python 3 (ipykernel)",
   "language": "python",
   "name": "python3"
  },
  "language_info": {
   "codemirror_mode": {
    "name": "ipython",
    "version": 3
   },
   "file_extension": ".py",
   "mimetype": "text/x-python",
   "name": "python",
   "nbconvert_exporter": "python",
   "pygments_lexer": "ipython3",
   "version": "3.12.7"
  }
 },
 "nbformat": 4,
 "nbformat_minor": 5
}
