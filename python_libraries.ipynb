{
 "cells": [
  {
   "cell_type": "code",
   "execution_count": 1,
   "id": "6370ed1c-8012-435e-83cf-fbf15e6e9198",
   "metadata": {},
   "outputs": [],
   "source": [
    "import numpy as np"
   ]
  },
  {
   "cell_type": "code",
   "execution_count": 13,
   "id": "1fb64dfc-0ffd-4ad0-8ef2-78535bb4f514",
   "metadata": {},
   "outputs": [
    {
     "name": "stdout",
     "output_type": "stream",
     "text": [
      "[2 3 4 5 6]\n"
     ]
    }
   ],
   "source": [
    "a1=np.array([2,3,4,5,6])\n",
    "print(a1)"
   ]
  },
  {
   "cell_type": "code",
   "execution_count": 5,
   "id": "1d0fca61-4c17-4456-8784-e6e23ff909fb",
   "metadata": {},
   "outputs": [
    {
     "name": "stdout",
     "output_type": "stream",
     "text": [
      "[2.  3.4 4.  5.  6. ]\n"
     ]
    }
   ],
   "source": [
    "a=np.array([2,3.4,4,5,6])\n",
    "print(a)"
   ]
  },
  {
   "cell_type": "code",
   "execution_count": 9,
   "id": "0f111590-d783-4502-912e-803ce834ddc9",
   "metadata": {},
   "outputs": [
    {
     "data": {
      "text/plain": [
       "dtype('float64')"
      ]
     },
     "execution_count": 9,
     "metadata": {},
     "output_type": "execute_result"
    }
   ],
   "source": [
    "a.dtype"
   ]
  },
  {
   "cell_type": "code",
   "execution_count": 15,
   "id": "d046a747-30df-41d7-a9ef-8fe8add2f86d",
   "metadata": {},
   "outputs": [
    {
     "data": {
      "text/plain": [
       "dtype('int32')"
      ]
     },
     "execution_count": 15,
     "metadata": {},
     "output_type": "execute_result"
    }
   ],
   "source": [
    "a1.dtype"
   ]
  },
  {
   "cell_type": "code",
   "execution_count": 17,
   "id": "216b2e34-520f-4b62-9729-8f132f6b55b4",
   "metadata": {},
   "outputs": [],
   "source": [
    "b=a1.astype(float)"
   ]
  },
  {
   "cell_type": "code",
   "execution_count": 27,
   "id": "a74ac204-4d4d-4a35-876b-f5560452f75d",
   "metadata": {},
   "outputs": [
    {
     "name": "stdout",
     "output_type": "stream",
     "text": [
      "1\n"
     ]
    }
   ],
   "source": [
    "b.dtype\n",
    "b.sum()\n",
    "print(b.ndim)"
   ]
  },
  {
   "cell_type": "code",
   "execution_count": 29,
   "id": "a7e9c6ef-5ddf-4341-b2db-4b63341d195f",
   "metadata": {},
   "outputs": [],
   "source": [
    "#to change datatype we use \"astype\"\n",
    "#to know number of dimension we use\"ndim\"\n",
    "#to set dimensions we will use=\"ndmin=1,3\"\n",
    "#to know shape of array we use=\"a.shape\"\n",
    "#shape will be printed in the format=(1,rows,columns)\n"
   ]
  },
  {
   "cell_type": "code",
   "execution_count": 35,
   "id": "84cea6a7-d2c4-4fde-9d4a-b7b98f499459",
   "metadata": {},
   "outputs": [
    {
     "name": "stdout",
     "output_type": "stream",
     "text": [
      "2\n"
     ]
    }
   ],
   "source": [
    "a=np.array([[2,3,4],[4,5,6]])\n",
    "print(a.ndim)"
   ]
  },
  {
   "cell_type": "code",
   "execution_count": 39,
   "id": "d9a7f855-5d87-40a8-b0c0-f7c7b01e393a",
   "metadata": {},
   "outputs": [
    {
     "name": "stdout",
     "output_type": "stream",
     "text": [
      "[[[[2.  3.4 4.  5.  6. ]]]]\n"
     ]
    }
   ],
   "source": [
    "a=np.array([2,3.4,4,5,6],ndmin=4)\n",
    "print(a)"
   ]
  },
  {
   "cell_type": "code",
   "execution_count": 43,
   "id": "9e8aefde-3ea7-4d80-a4a5-25f7af2171ce",
   "metadata": {},
   "outputs": [
    {
     "name": "stdout",
     "output_type": "stream",
     "text": [
      "[[2 3 4]\n",
      " [4 5 6]]\n",
      "(2, 3)\n"
     ]
    }
   ],
   "source": [
    "a=np.array([[2,3,4],[4,5,6]])\n",
    "print(a)\n",
    "print(a.shape)"
   ]
  },
  {
   "cell_type": "code",
   "execution_count": 49,
   "id": "cce353cc-1ea3-4c82-96e3-b971e4e4dc8c",
   "metadata": {},
   "outputs": [
    {
     "name": "stdout",
     "output_type": "stream",
     "text": [
      "[[[2 3 4]\n",
      "  [4 5 6]]]\n",
      "(1, 2, 3)\n"
     ]
    }
   ],
   "source": [
    "a=np.array([[[2,3,4],[4,5,6]]])\n",
    "print(a)\n",
    "print(a.shape)"
   ]
  },
  {
   "cell_type": "code",
   "execution_count": 51,
   "id": "a8476445-032e-4efb-a641-4e2d768872ef",
   "metadata": {},
   "outputs": [
    {
     "name": "stdout",
     "output_type": "stream",
     "text": [
      "[[[2 3 4 4 5 6]]]\n",
      "(1, 1, 6)\n"
     ]
    }
   ],
   "source": [
    "a=np.array([[[2,3,4,4,5,6]]])\n",
    "print(a)\n",
    "print(a.shape)"
   ]
  },
  {
   "cell_type": "code",
   "execution_count": 53,
   "id": "6e66dd22-9dce-43a0-9529-cf1ee556afc0",
   "metadata": {},
   "outputs": [
    {
     "name": "stdout",
     "output_type": "stream",
     "text": [
      "[2 3 5 6]\n",
      "(4,)\n"
     ]
    }
   ],
   "source": [
    "a=np.array([2,3,5,6])\n",
    "print(a)\n",
    "print(a.shape)"
   ]
  },
  {
   "cell_type": "code",
   "execution_count": 69,
   "id": "d46bbf3d-f1be-49f5-bbaa-b22805be144c",
   "metadata": {},
   "outputs": [
    {
     "name": "stdout",
     "output_type": "stream",
     "text": [
      "[[[2 3]\n",
      "  [2 3]\n",
      "  [2 3]\n",
      "  [4 6]]]\n",
      "(1, 4, 2)\n"
     ]
    }
   ],
   "source": [
    "a=np.array([[[2,3],[2,3],[2,3],[4,6]]])\n",
    "print(a)\n",
    "print(a.shape)"
   ]
  },
  {
   "cell_type": "code",
   "execution_count": 71,
   "id": "4e46436f-675e-4367-98d1-b27d1bb6ed48",
   "metadata": {},
   "outputs": [
    {
     "name": "stdout",
     "output_type": "stream",
     "text": [
      "[[[2 3]\n",
      "  [2 3]\n",
      "  [2 3]\n",
      "  [4 6]]]\n",
      "[[2 3]\n",
      " [2 3]\n",
      " [2 3]\n",
      " [4 6]]\n"
     ]
    }
   ],
   "source": [
    "a=np.array([[[2,3],[2,3],[2,3],[4,6]]])\n",
    "print(a)\n",
    "print(a.reshape(4,2))"
   ]
  },
  {
   "cell_type": "code",
   "execution_count": 73,
   "id": "24ef5e0f-8b19-41fe-a07f-9990e57af8cf",
   "metadata": {},
   "outputs": [
    {
     "name": "stdout",
     "output_type": "stream",
     "text": [
      "[[[2 3]\n",
      "  [2 3]\n",
      "  [2 3]\n",
      "  [4 6]]]\n",
      "[[2 3 2 3]\n",
      " [2 3 4 6]]\n"
     ]
    }
   ],
   "source": [
    "a=np.array([[[2,3],[2,3],[2,3],[4,6]]])\n",
    "print(a)\n",
    "print(a.reshape(2,4))"
   ]
  },
  {
   "cell_type": "code",
   "execution_count": 75,
   "id": "fb621006-d15f-4189-acfe-77d700fbc7eb",
   "metadata": {},
   "outputs": [
    {
     "name": "stdout",
     "output_type": "stream",
     "text": [
      "[[[2 3]\n",
      "  [2 3]\n",
      "  [2 3]\n",
      "  [4 6]]]\n",
      "[[2 3 2 3 2 3 4 6]]\n"
     ]
    }
   ],
   "source": [
    "a=np.array([[[2,3],[2,3],[2,3],[4,6]]])\n",
    "print(a)\n",
    "print(a.reshape(1,8))"
   ]
  },
  {
   "cell_type": "code",
   "execution_count": 77,
   "id": "53f0d1d8-2604-419b-b65b-17fa6a675b4d",
   "metadata": {},
   "outputs": [
    {
     "data": {
      "text/plain": [
       "False"
      ]
     },
     "execution_count": 77,
     "metadata": {},
     "output_type": "execute_result"
    }
   ],
   "source": [
    "#que\n",
    "not True or False and False\n",
    "#(not True) or False and False\n",
    "#False or (False and False)\n",
    "#False or False\n",
    "#False\n"
   ]
  },
  {
   "cell_type": "code",
   "execution_count": null,
   "id": "68553d54-230a-4707-bcff-c1e5ba91e4ef",
   "metadata": {},
   "outputs": [],
   "source": []
  }
 ],
 "metadata": {
  "kernelspec": {
   "display_name": "Python 3 (ipykernel)",
   "language": "python",
   "name": "python3"
  },
  "language_info": {
   "codemirror_mode": {
    "name": "ipython",
    "version": 3
   },
   "file_extension": ".py",
   "mimetype": "text/x-python",
   "name": "python",
   "nbconvert_exporter": "python",
   "pygments_lexer": "ipython3",
   "version": "3.12.7"
  }
 },
 "nbformat": 4,
 "nbformat_minor": 5
}
